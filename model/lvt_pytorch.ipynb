{
 "cells": [
  {
   "cell_type": "code",
   "execution_count": 3,
   "metadata": {},
   "outputs": [],
   "source": [
    "import torch\n",
    "import torch.nn as nn\n",
    "import einops as eops\n",
    "import numpy as np\n"
   ]
  },
  {
   "cell_type": "code",
   "execution_count": 7,
   "metadata": {},
   "outputs": [],
   "source": [
    "x = torch.rand((1,3, 1024, 1024))\n",
    "# print(x)"
   ]
  },
  {
   "cell_type": "code",
   "execution_count": 11,
   "metadata": {},
   "outputs": [
    {
     "name": "stdout",
     "output_type": "stream",
     "text": [
      "torch.Size([1, 3, 1024, 1024])\n"
     ]
    }
   ],
   "source": [
    "ln = nn.LayerNorm([3, 1024, 1024])\n",
    "\n",
    "print(ln(x).shape)\n"
   ]
  },
  {
   "cell_type": "markdown",
   "metadata": {},
   "source": [
    "# test unfold"
   ]
  },
  {
   "cell_type": "code",
   "execution_count": 39,
   "metadata": {},
   "outputs": [
    {
     "name": "stdout",
     "output_type": "stream",
     "text": [
      "torch.Size([1, 12, 262144]) 1024 1024\n"
     ]
    },
    {
     "data": {
      "text/plain": [
       "torch.Size([1, 3, 4, 512, 512])"
      ]
     },
     "execution_count": 39,
     "metadata": {},
     "output_type": "execute_result"
    }
   ],
   "source": [
    "unfold_kernel_size = 2\n",
    "unfold = nn.Unfold(unfold_kernel_size,stride=2)\n",
    "c, h, w = x.shape\n",
    "unfold_x = unfold(x.unsqueeze(0))\n",
    "print(unfold_x.shape, h, w)\n",
    "unfold_x = unfold_x.view([1, c, unfold_kernel_size, unfold_kernel_size, 512, 512]).view(1,c,unfold_kernel_size**2,512,512)\n",
    "unfold_x.shape\n"
   ]
  },
  {
   "cell_type": "code",
   "execution_count": 15,
   "metadata": {},
   "outputs": [
    {
     "data": {
      "text/plain": [
       "torch.Size([1, 1024, 1024, 16])"
      ]
     },
     "execution_count": 15,
     "metadata": {},
     "output_type": "execute_result"
    }
   ],
   "source": [
    "_x=x.permute(0,2,3,1)\n",
    "nn.Linear(3,2**4)(_x).shape"
   ]
  },
  {
   "cell_type": "code",
   "execution_count": 20,
   "metadata": {},
   "outputs": [
    {
     "data": {
      "text/plain": [
       "144"
      ]
     },
     "execution_count": 20,
     "metadata": {},
     "output_type": "execute_result"
    }
   ],
   "source": [
    "3*2*2*12\n"
   ]
  }
 ],
 "metadata": {
  "interpreter": {
   "hash": "b7c070e61e1789fa4fa8443d800dcc250b6dd18f5eb4d7125ca060af185bfd88"
  },
  "kernelspec": {
   "display_name": "Python 3.7.11 64-bit ('wjy-3d': conda)",
   "language": "python",
   "name": "python3"
  },
  "language_info": {
   "codemirror_mode": {
    "name": "ipython",
    "version": 3
   },
   "file_extension": ".py",
   "mimetype": "text/x-python",
   "name": "python",
   "nbconvert_exporter": "python",
   "pygments_lexer": "ipython3",
   "version": "3.7.11"
  },
  "orig_nbformat": 4
 },
 "nbformat": 4,
 "nbformat_minor": 2
}
