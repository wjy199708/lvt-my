{
 "cells": [
  {
   "cell_type": "code",
   "execution_count": 13,
   "metadata": {},
   "outputs": [],
   "source": [
    "import torch\n",
    "import torch.nn as nn\n",
    "import einops as eops\n"
   ]
  },
  {
   "cell_type": "code",
   "execution_count": 9,
   "metadata": {},
   "outputs": [
    {
     "data": {
      "text/plain": [
       "tensor([[[0.6602, 0.6439, 0.0839,  ..., 0.8578, 0.5910, 0.9262],\n",
       "         [0.4072, 0.9749, 0.7922,  ..., 0.4552, 0.8774, 0.7839],\n",
       "         [0.3657, 0.4119, 0.4073,  ..., 0.6593, 0.2795, 0.8182],\n",
       "         ...,\n",
       "         [0.0416, 0.8029, 0.7512,  ..., 0.2777, 0.3422, 0.9276],\n",
       "         [0.0800, 0.3484, 0.5676,  ..., 0.0246, 0.4736, 0.0163],\n",
       "         [0.9507, 0.0751, 0.9613,  ..., 0.8854, 0.4582, 0.4204]],\n",
       "\n",
       "        [[0.8995, 0.0442, 0.0204,  ..., 0.4740, 0.2024, 0.4890],\n",
       "         [0.6180, 0.5780, 0.0849,  ..., 0.2043, 0.8304, 0.9194],\n",
       "         [0.6766, 0.7283, 0.5294,  ..., 0.2758, 0.0695, 0.7648],\n",
       "         ...,\n",
       "         [0.8401, 0.7171, 0.6313,  ..., 0.4379, 0.6216, 0.1843],\n",
       "         [0.6343, 0.9181, 0.5567,  ..., 0.0856, 0.9673, 0.1378],\n",
       "         [0.8582, 0.5657, 0.7171,  ..., 0.3091, 0.9441, 0.4901]],\n",
       "\n",
       "        [[0.1981, 0.7471, 0.5073,  ..., 0.3349, 0.6248, 0.3515],\n",
       "         [0.8995, 0.9493, 0.0045,  ..., 0.4998, 0.3036, 0.5461],\n",
       "         [0.2911, 0.5458, 0.6393,  ..., 0.2787, 0.4099, 0.1770],\n",
       "         ...,\n",
       "         [0.1207, 0.9274, 0.0593,  ..., 0.2604, 0.9749, 0.4428],\n",
       "         [0.4749, 0.8143, 0.2680,  ..., 0.7996, 0.0803, 0.7163],\n",
       "         [0.0857, 0.7372, 0.8649,  ..., 0.7445, 0.6019, 0.1177]]])"
      ]
     },
     "execution_count": 9,
     "metadata": {},
     "output_type": "execute_result"
    }
   ],
   "source": [
    "x = torch.rand((3, 1024, 1024))\n",
    "print(x)"
   ]
  },
  {
   "cell_type": "code",
   "execution_count": 22,
   "metadata": {},
   "outputs": [
    {
     "name": "stdout",
     "output_type": "stream",
     "text": [
      "torch.Size([1, 1024, 1024, 3])\n"
     ]
    }
   ],
   "source": [
    "ln = nn.LayerNorm(3)\n",
    "\n",
    "print(ln(x.permute(1, 2, 0).unsqueeze(0)).shape)\n"
   ]
  },
  {
   "cell_type": "markdown",
   "metadata": {},
   "source": [
    "# test unfold"
   ]
  },
  {
   "cell_type": "code",
   "execution_count": 39,
   "metadata": {},
   "outputs": [
    {
     "name": "stdout",
     "output_type": "stream",
     "text": [
      "torch.Size([1, 12, 262144]) 1024 1024\n"
     ]
    },
    {
     "data": {
      "text/plain": [
       "torch.Size([1, 3, 4, 512, 512])"
      ]
     },
     "execution_count": 39,
     "metadata": {},
     "output_type": "execute_result"
    }
   ],
   "source": [
    "unfold_kernel_size = 2\n",
    "unfold = nn.Unfold(unfold_kernel_size,stride=2)\n",
    "c, h, w = x.shape\n",
    "unfold_x = unfold(x.unsqueeze(0))\n",
    "print(unfold_x.shape, h, w)\n",
    "unfold_x = unfold_x.view([1, c, unfold_kernel_size, unfold_kernel_size, 512, 512]).view(1,c,unfold_kernel_size**2,512,512)\n",
    "unfold_x.shape\n"
   ]
  },
  {
   "cell_type": "code",
   "execution_count": 30,
   "metadata": {},
   "outputs": [
    {
     "data": {
      "text/plain": [
       "1572864.0"
      ]
     },
     "execution_count": 30,
     "metadata": {},
     "output_type": "execute_result"
    }
   ],
   "source": [
    "(1 * 512 * 512 * 4 * 3) / 2\n"
   ]
  }
 ],
 "metadata": {
  "interpreter": {
   "hash": "b7c070e61e1789fa4fa8443d800dcc250b6dd18f5eb4d7125ca060af185bfd88"
  },
  "kernelspec": {
   "display_name": "Python 3.7.11 64-bit ('wjy-3d': conda)",
   "language": "python",
   "name": "python3"
  },
  "language_info": {
   "codemirror_mode": {
    "name": "ipython",
    "version": 3
   },
   "file_extension": ".py",
   "mimetype": "text/x-python",
   "name": "python",
   "nbconvert_exporter": "python",
   "pygments_lexer": "ipython3",
   "version": "3.7.11"
  },
  "orig_nbformat": 4
 },
 "nbformat": 4,
 "nbformat_minor": 2
}
